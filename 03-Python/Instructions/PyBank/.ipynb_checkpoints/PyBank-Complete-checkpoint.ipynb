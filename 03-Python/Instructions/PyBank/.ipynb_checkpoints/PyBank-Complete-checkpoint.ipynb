{
 "cells": [
  {
   "cell_type": "code",
   "execution_count": 3,
   "id": "e560f437",
   "metadata": {},
   "outputs": [
    {
     "name": "stdout",
     "output_type": "stream",
     "text": [
      "Financial Analysis\n",
      "----------------------------\n",
      "Total Months: 86\n",
      "Total: 38382578\n",
      "Average Change: -2315.12\n",
      "Greatest Increase in Profits: Feb-2012 (1926159)\n",
      "Greatest Decrease in Profits: Sep-2013 (-2196167)\n"
     ]
    }
   ],
   "source": [
    "import os\n",
    "import csv\n",
    "\n",
    "PyBank_csv = os.path.join(\"..\",\"PyBank\",\"Resources\", \"budget_data.csv\")\n",
    "\n",
    "count = 0\n",
    "months = []\n",
    "amounts = []\n",
    "change = []\n",
    "changeMonth = []\n",
    "\n",
    "\n",
    "\n",
    "with open(budget_csv) as csvfile:\n",
    "    csvreader = csv.reader(csvfile, delimiter=\",\")\n",
    "    \n",
    "    csv_header = next(csvfile)\n",
    "\n",
    "    for row in csv.reader(csvfile):\n",
    "\n",
    "        if count == 0:\n",
    "            \n",
    "            count = count + 1\n",
    "            newAmount = int(row[1])\n",
    "            amounts.append(int(row[1]))\n",
    "            months.append(str(row[0]))\n",
    "        else:\n",
    "            amounts.append(int(row[1]))\n",
    "            months.append(str(row[0]))\n",
    "            change.append(int(int(row[1]) - newAmount))\n",
    "            changeMonth.append(str(row[0]))\n",
    "            newAmount = int(row[1])\n",
    "\n",
    "\n",
    "    totalMonths = len(months)\n",
    "    totalAmount = sum(amounts)\n",
    "    averageChange = round(sum(change) / len(changeMonth), 2)\n",
    "    maxChange = max(change)\n",
    "    maxChangeMonthIndex = change.index(maxChange)\n",
    "    minChange = min(change)\n",
    "    minChangeMonthIndex = change.index(minChange)\n",
    "\n",
    "\n",
    "print('Financial Analysis')\n",
    "print('----------------------------')\n",
    "print(f'Total Months: {totalMonths}')\n",
    "print(f'Total: {totalAmount}')\n",
    "print(f'Average Change: {averageChange}')\n",
    "print(f'Greatest Increase in Profits: {changeMonth[int(maxChangeMonthIndex)]} ({maxChange})')\n",
    "print(f'Greatest Decrease in Profits: {changeMonth[int(minChangeMonthIndex)]} ({minChange})')\n"
   ]
  },
  {
   "cell_type": "code",
   "execution_count": null,
   "id": "9fb84603",
   "metadata": {},
   "outputs": [],
   "source": []
  },
  {
   "cell_type": "code",
   "execution_count": null,
   "id": "1f538bf9",
   "metadata": {},
   "outputs": [],
   "source": []
  }
 ],
 "metadata": {
  "kernelspec": {
   "display_name": "Python 3",
   "language": "python",
   "name": "python3"
  },
  "language_info": {
   "codemirror_mode": {
    "name": "ipython",
    "version": 3
   },
   "file_extension": ".py",
   "mimetype": "text/x-python",
   "name": "python",
   "nbconvert_exporter": "python",
   "pygments_lexer": "ipython3",
   "version": "3.8.8"
  }
 },
 "nbformat": 4,
 "nbformat_minor": 5
}
